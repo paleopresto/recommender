{
 "cells": [
  {
   "cell_type": "markdown",
   "metadata": {},
   "source": [
    "#### This works"
   ]
  },
  {
   "cell_type": "code",
   "execution_count": 3,
   "metadata": {},
   "outputs": [
    {
     "name": "stdout",
     "output_type": "stream",
     "text": [
      "<Response [200]> {'head': {'vars': ['name', 'data', 'table', 'pot']}, 'results': {'bindings': [{'name': {'type': 'literal', 'value': 'NAm-SnowBowlSanFranciscoPeak.Briffa.2002'}, 'data': {'type': 'uri', 'value': 'http://wiki.linked.earth/Special:URIResolver/NAm-2DSnowBowlSanFranciscoPeak.Briffa.2002.PaleoData1'}, 'table': {'type': 'uri', 'value': 'http://wiki.linked.earth/Special:URIResolver/NAm-2DSnowBowlSanFranciscoPeak.Briffa.2002.paleo1measurement1'}}, {'name': {'type': 'literal', 'value': 'NAm-SnowBowlSanFranciscoPeak.Briffa.2002'}, 'data': {'type': 'uri', 'value': 'http://wiki.linked.earth/Special:URIResolver/NAm-2DSnowBowlSanFranciscoPeak.Briffa.2002.PaleoData2'}, 'table': {'type': 'uri', 'value': 'http://wiki.linked.earth/Special:URIResolver/NAm-2DSnowBowlSanFranciscoPeak.Briffa.2002.paleo2measurement1'}}]}}\n"
     ]
    }
   ],
   "source": [
    "import os\n",
    "import sys\n",
    "import json\n",
    "import requests\n",
    "import urllib\n",
    "\n",
    "# datasetname = \"Afr-LakeMalawi.Powers.2011\"\n",
    "datasetname = \"Arc-BigRoundLake.Thomas.2009\"\n",
    "# datasetname = \"NAm-SnowBowlSanFranciscoPeak.Briffa.2002\"\n",
    "\n",
    "endpoint = \"http://wiki.linked.earth/store/db/query\" # Query Metadata\n",
    "wikiapi = \"http://wiki.linked.earth/wiki/api.php\" # Fetch file data\n",
    "\n",
    "query = \"\"\"PREFIX core: <http://linked.earth/ontology#>\n",
    "PREFIX wiki: <http://wiki.linked.earth/Special:URIResolver/>\n",
    "SELECT ?name ?data ?table ?pot\n",
    "WHERE {\n",
    "  ?ds a core:Dataset .\n",
    "  ?ds core:name ?name .\n",
    "  ?ds core:name '\"\"\" + datasetname + \"\"\"' .\n",
    "  ?ds core:includesPaleoData ?data .\n",
    "  ?data core:foundInMeasurementTable ?table .\n",
    "  \n",
    "}\"\"\"\n",
    "# ?data core:foundInMeasurementTable ?table .\n",
    "#   ?table core:includesVariable ?var .\n",
    "#   ?var core:proxyObservationType ?pot.\n",
    "\n",
    "response = requests.post(endpoint, data = {'query': query})\n",
    "res = json.loads(response.text)\n",
    "print(response, res)"
   ]
  },
  {
   "cell_type": "markdown",
   "metadata": {},
   "source": [
    "#### When I check for IncludesVariable, it does not return anything. <br>\n",
    "When I checked the wiki,, this dataset has 1 proxyObservationType - Ghostmeasured and 1 inferredVariableType - year"
   ]
  },
  {
   "cell_type": "code",
   "execution_count": 8,
   "metadata": {},
   "outputs": [
    {
     "name": "stdout",
     "output_type": "stream",
     "text": [
      "<Response [200]> {'head': {'vars': ['name', 'data', 'table', 'pot']}, 'results': {'bindings': []}}\n"
     ]
    }
   ],
   "source": [
    "import os\n",
    "import sys\n",
    "import json\n",
    "import requests\n",
    "import urllib\n",
    "\n",
    "# datasetname = \"Afr-LakeMalawi.Powers.2011\"\n",
    "datasetname = \"Arc-BigRoundLake.Thomas.2009\"\n",
    "# datasetname = \"NAm-SnowBowlSanFranciscoPeak.Briffa.2002\"\n",
    "\n",
    "endpoint = \"http://wiki.linked.earth/store/db/query\" # Query Metadata\n",
    "wikiapi = \"http://wiki.linked.earth/wiki/api.php\" # Fetch file data\n",
    "\n",
    "query = \"\"\"PREFIX core: <http://linked.earth/ontology#>\n",
    "PREFIX wiki: <http://wiki.linked.earth/Special:URIResolver/>\n",
    "SELECT ?name ?data ?table ?pot\n",
    "WHERE {\n",
    "  ?ds a core:Dataset .\n",
    "  ?ds core:name ?name .\n",
    "  ?ds core:name '\"\"\" + datasetname + \"\"\"' .\n",
    "  ?ds core:includesPaleoData ?data .\n",
    "  ?data core:foundInMeasurementTable ?table .\n",
    "  ?table core:includesVariable ?var .\n",
    "}\"\"\"\n",
    "#   ?var core:proxyObservationType ?pot.\n",
    "\n",
    "response = requests.post(endpoint, data = {'query': query})\n",
    "res = json.loads(response.text)\n",
    "print(response, res)"
   ]
  },
  {
   "cell_type": "markdown",
   "metadata": {},
   "source": [
    "#### Works for more than 2 tables"
   ]
  },
  {
   "cell_type": "code",
   "execution_count": 6,
   "metadata": {},
   "outputs": [
    {
     "name": "stdout",
     "output_type": "stream",
     "text": [
      "<Response [200]> {'head': {'vars': ['name', 'data', 'table', 'pot']}, 'results': {'bindings': [{'name': {'type': 'literal', 'value': 'NAm-SnowBowlSanFranciscoPeak.Briffa.2002'}, 'data': {'type': 'uri', 'value': 'http://wiki.linked.earth/Special:URIResolver/NAm-2DSnowBowlSanFranciscoPeak.Briffa.2002.PaleoData1'}, 'table': {'type': 'uri', 'value': 'http://wiki.linked.earth/Special:URIResolver/NAm-2DSnowBowlSanFranciscoPeak.Briffa.2002.paleo1measurement1'}}, {'name': {'type': 'literal', 'value': 'NAm-SnowBowlSanFranciscoPeak.Briffa.2002'}, 'data': {'type': 'uri', 'value': 'http://wiki.linked.earth/Special:URIResolver/NAm-2DSnowBowlSanFranciscoPeak.Briffa.2002.PaleoData2'}, 'table': {'type': 'uri', 'value': 'http://wiki.linked.earth/Special:URIResolver/NAm-2DSnowBowlSanFranciscoPeak.Briffa.2002.paleo2measurement1'}}]}}\n"
     ]
    }
   ],
   "source": [
    "import os\n",
    "import sys\n",
    "import json\n",
    "import requests\n",
    "import urllib\n",
    "\n",
    "# datasetname = \"Afr-LakeMalawi.Powers.2011\"\n",
    "# datasetname = \"Arc-BigRoundLake.Thomas.2009\"\n",
    "datasetname = \"NAm-SnowBowlSanFranciscoPeak.Briffa.2002\"\n",
    "\n",
    "endpoint = \"http://wiki.linked.earth/store/db/query\" # Query Metadata\n",
    "wikiapi = \"http://wiki.linked.earth/wiki/api.php\" # Fetch file data\n",
    "\n",
    "query = \"\"\"PREFIX core: <http://linked.earth/ontology#>\n",
    "PREFIX wiki: <http://wiki.linked.earth/Special:URIResolver/>\n",
    "SELECT ?name ?data ?table ?pot\n",
    "WHERE {\n",
    "  ?ds a core:Dataset .\n",
    "  ?ds core:name ?name .\n",
    "  ?ds core:name '\"\"\" + datasetname + \"\"\"' .\n",
    "  ?ds core:includesPaleoData ?data .\n",
    "  ?data core:foundInMeasurementTable ?table .\n",
    "  \n",
    "}\"\"\"\n",
    "# ?data core:foundInMeasurementTable ?table .\n",
    "#   ?table core:includesVariable ?var .\n",
    "#   ?var core:proxyObservationType ?pot.\n",
    "\n",
    "response = requests.post(endpoint, data = {'query': query})\n",
    "res = json.loads(response.text)\n",
    "print(response, res)"
   ]
  },
  {
   "cell_type": "code",
   "execution_count": 7,
   "metadata": {},
   "outputs": [
    {
     "name": "stdout",
     "output_type": "stream",
     "text": [
      "<Response [200]> {'head': {'vars': ['name', 'data', 'table', 'pot']}, 'results': {'bindings': [{'name': {'type': 'literal', 'value': 'NAm-SnowBowlSanFranciscoPeak.Briffa.2002'}, 'data': {'type': 'uri', 'value': 'http://wiki.linked.earth/Special:URIResolver/NAm-2DSnowBowlSanFranciscoPeak.Briffa.2002.PaleoData1'}, 'table': {'type': 'uri', 'value': 'http://wiki.linked.earth/Special:URIResolver/NAm-2DSnowBowlSanFranciscoPeak.Briffa.2002.paleo1measurement1'}}, {'name': {'type': 'literal', 'value': 'NAm-SnowBowlSanFranciscoPeak.Briffa.2002'}, 'data': {'type': 'uri', 'value': 'http://wiki.linked.earth/Special:URIResolver/NAm-2DSnowBowlSanFranciscoPeak.Briffa.2002.PaleoData1'}, 'table': {'type': 'uri', 'value': 'http://wiki.linked.earth/Special:URIResolver/NAm-2DSnowBowlSanFranciscoPeak.Briffa.2002.paleo1measurement1'}}, {'name': {'type': 'literal', 'value': 'NAm-SnowBowlSanFranciscoPeak.Briffa.2002'}, 'data': {'type': 'uri', 'value': 'http://wiki.linked.earth/Special:URIResolver/NAm-2DSnowBowlSanFranciscoPeak.Briffa.2002.PaleoData1'}, 'table': {'type': 'uri', 'value': 'http://wiki.linked.earth/Special:URIResolver/NAm-2DSnowBowlSanFranciscoPeak.Briffa.2002.paleo1measurement1'}}, {'name': {'type': 'literal', 'value': 'NAm-SnowBowlSanFranciscoPeak.Briffa.2002'}, 'data': {'type': 'uri', 'value': 'http://wiki.linked.earth/Special:URIResolver/NAm-2DSnowBowlSanFranciscoPeak.Briffa.2002.PaleoData1'}, 'table': {'type': 'uri', 'value': 'http://wiki.linked.earth/Special:URIResolver/NAm-2DSnowBowlSanFranciscoPeak.Briffa.2002.paleo1measurement1'}}, {'name': {'type': 'literal', 'value': 'NAm-SnowBowlSanFranciscoPeak.Briffa.2002'}, 'data': {'type': 'uri', 'value': 'http://wiki.linked.earth/Special:URIResolver/NAm-2DSnowBowlSanFranciscoPeak.Briffa.2002.PaleoData1'}, 'table': {'type': 'uri', 'value': 'http://wiki.linked.earth/Special:URIResolver/NAm-2DSnowBowlSanFranciscoPeak.Briffa.2002.paleo1measurement1'}}, {'name': {'type': 'literal', 'value': 'NAm-SnowBowlSanFranciscoPeak.Briffa.2002'}, 'data': {'type': 'uri', 'value': 'http://wiki.linked.earth/Special:URIResolver/NAm-2DSnowBowlSanFranciscoPeak.Briffa.2002.PaleoData1'}, 'table': {'type': 'uri', 'value': 'http://wiki.linked.earth/Special:URIResolver/NAm-2DSnowBowlSanFranciscoPeak.Briffa.2002.paleo1measurement1'}}, {'name': {'type': 'literal', 'value': 'NAm-SnowBowlSanFranciscoPeak.Briffa.2002'}, 'data': {'type': 'uri', 'value': 'http://wiki.linked.earth/Special:URIResolver/NAm-2DSnowBowlSanFranciscoPeak.Briffa.2002.PaleoData1'}, 'table': {'type': 'uri', 'value': 'http://wiki.linked.earth/Special:URIResolver/NAm-2DSnowBowlSanFranciscoPeak.Briffa.2002.paleo1measurement1'}}, {'name': {'type': 'literal', 'value': 'NAm-SnowBowlSanFranciscoPeak.Briffa.2002'}, 'data': {'type': 'uri', 'value': 'http://wiki.linked.earth/Special:URIResolver/NAm-2DSnowBowlSanFranciscoPeak.Briffa.2002.PaleoData1'}, 'table': {'type': 'uri', 'value': 'http://wiki.linked.earth/Special:URIResolver/NAm-2DSnowBowlSanFranciscoPeak.Briffa.2002.paleo1measurement1'}}, {'name': {'type': 'literal', 'value': 'NAm-SnowBowlSanFranciscoPeak.Briffa.2002'}, 'data': {'type': 'uri', 'value': 'http://wiki.linked.earth/Special:URIResolver/NAm-2DSnowBowlSanFranciscoPeak.Briffa.2002.PaleoData1'}, 'table': {'type': 'uri', 'value': 'http://wiki.linked.earth/Special:URIResolver/NAm-2DSnowBowlSanFranciscoPeak.Briffa.2002.paleo1measurement1'}}, {'name': {'type': 'literal', 'value': 'NAm-SnowBowlSanFranciscoPeak.Briffa.2002'}, 'data': {'type': 'uri', 'value': 'http://wiki.linked.earth/Special:URIResolver/NAm-2DSnowBowlSanFranciscoPeak.Briffa.2002.PaleoData1'}, 'table': {'type': 'uri', 'value': 'http://wiki.linked.earth/Special:URIResolver/NAm-2DSnowBowlSanFranciscoPeak.Briffa.2002.paleo1measurement1'}}, {'name': {'type': 'literal', 'value': 'NAm-SnowBowlSanFranciscoPeak.Briffa.2002'}, 'data': {'type': 'uri', 'value': 'http://wiki.linked.earth/Special:URIResolver/NAm-2DSnowBowlSanFranciscoPeak.Briffa.2002.PaleoData1'}, 'table': {'type': 'uri', 'value': 'http://wiki.linked.earth/Special:URIResolver/NAm-2DSnowBowlSanFranciscoPeak.Briffa.2002.paleo1measurement1'}}, {'name': {'type': 'literal', 'value': 'NAm-SnowBowlSanFranciscoPeak.Briffa.2002'}, 'data': {'type': 'uri', 'value': 'http://wiki.linked.earth/Special:URIResolver/NAm-2DSnowBowlSanFranciscoPeak.Briffa.2002.PaleoData1'}, 'table': {'type': 'uri', 'value': 'http://wiki.linked.earth/Special:URIResolver/NAm-2DSnowBowlSanFranciscoPeak.Briffa.2002.paleo1measurement1'}}, {'name': {'type': 'literal', 'value': 'NAm-SnowBowlSanFranciscoPeak.Briffa.2002'}, 'data': {'type': 'uri', 'value': 'http://wiki.linked.earth/Special:URIResolver/NAm-2DSnowBowlSanFranciscoPeak.Briffa.2002.PaleoData1'}, 'table': {'type': 'uri', 'value': 'http://wiki.linked.earth/Special:URIResolver/NAm-2DSnowBowlSanFranciscoPeak.Briffa.2002.paleo1measurement1'}}]}}\n"
     ]
    }
   ],
   "source": [
    "import os\n",
    "import sys\n",
    "import json\n",
    "import requests\n",
    "import urllib\n",
    "\n",
    "# datasetname = \"Afr-LakeMalawi.Powers.2011\"\n",
    "# datasetname = \"Arc-BigRoundLake.Thomas.2009\"\n",
    "datasetname = \"NAm-SnowBowlSanFranciscoPeak.Briffa.2002\"\n",
    "\n",
    "endpoint = \"http://wiki.linked.earth/store/db/query\" # Query Metadata\n",
    "wikiapi = \"http://wiki.linked.earth/wiki/api.php\" # Fetch file data\n",
    "\n",
    "query = \"\"\"PREFIX core: <http://linked.earth/ontology#>\n",
    "PREFIX wiki: <http://wiki.linked.earth/Special:URIResolver/>\n",
    "SELECT ?name ?data ?table ?pot\n",
    "WHERE {\n",
    "  ?ds a core:Dataset .\n",
    "  ?ds core:name ?name .\n",
    "  ?ds core:name '\"\"\" + datasetname + \"\"\"' .\n",
    "  ?ds core:includesPaleoData ?data .\n",
    "  ?data core:foundInMeasurementTable ?table .\n",
    "  ?table core:includesVariable ?var .\n",
    "}\"\"\"\n",
    "#   ?var core:proxyObservationType ?pot.\n",
    "\n",
    "response = requests.post(endpoint, data = {'query': query})\n",
    "res = json.loads(response.text)\n",
    "print(response, res)"
   ]
  },
  {
   "cell_type": "code",
   "execution_count": null,
   "metadata": {},
   "outputs": [],
   "source": []
  }
 ],
 "metadata": {
  "kernelspec": {
   "display_name": "Python 3",
   "language": "python",
   "name": "python3"
  },
  "language_info": {
   "codemirror_mode": {
    "name": "ipython",
    "version": 3
   },
   "file_extension": ".py",
   "mimetype": "text/x-python",
   "name": "python",
   "nbconvert_exporter": "python",
   "pygments_lexer": "ipython3",
   "version": "3.8.3"
  }
 },
 "nbformat": 4,
 "nbformat_minor": 4
}
