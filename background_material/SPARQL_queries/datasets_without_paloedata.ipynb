{
 "cells": [
  {
   "cell_type": "markdown",
   "metadata": {},
   "source": [
    "#### Get list of all files in wiki"
   ]
  },
  {
   "cell_type": "code",
   "execution_count": 1,
   "metadata": {},
   "outputs": [],
   "source": [
    "import json\n",
    "import requests\n",
    "\n",
    "url = \"http://wiki.linked.earth/store/db/query\"\n",
    "\n",
    "query = \"\"\"PREFIX core: <http://linked.earth/ontology#>\n",
    "PREFIX wiki: <http://wiki.linked.earth/Special:URIResolver/>\n",
    "SELECT ?ds ?name\n",
    "WHERE {\n",
    "  ?ds a core:Dataset .\n",
    "  ?ds core:name ?name\n",
    "}\"\"\"\n",
    "\n",
    "response = requests.post(url, data = {'query': query})\n",
    "res = json.loads(response.text)\n",
    "\n",
    "files_in_wiki = set()\n",
    "for item in res['results']['bindings']:\n",
    "    files_in_wiki.add(item['name']['value'])"
   ]
  },
  {
   "cell_type": "code",
   "execution_count": 2,
   "metadata": {},
   "outputs": [
    {
     "data": {
      "text/plain": [
       "705"
      ]
     },
     "execution_count": 2,
     "metadata": {},
     "output_type": "execute_result"
    }
   ],
   "source": [
    "len(files_in_wiki)"
   ]
  },
  {
   "cell_type": "markdown",
   "metadata": {},
   "source": [
    "#### Get all files with paleodata tables"
   ]
  },
  {
   "cell_type": "code",
   "execution_count": 3,
   "metadata": {},
   "outputs": [],
   "source": [
    "import os\n",
    "import sys\n",
    "import json\n",
    "import requests\n",
    "import urllib\n",
    "\n",
    "# datasetname = \"Afr-LakeMalawi.Powers.2011\"\n",
    "datasetname = \"Arc-BigRoundLake.Thomas.2009\"\n",
    "\n",
    "endpoint = \"http://wiki.linked.earth/store/db/query\" # Query Metadata\n",
    "wikiapi = \"http://wiki.linked.earth/wiki/api.php\" # Fetch file data\n",
    "\n",
    "query = \"\"\"PREFIX core: <http://linked.earth/ontology#>\n",
    "PREFIX wiki: <http://wiki.linked.earth/Special:URIResolver/>\n",
    "SELECT ?name ?data ?pot\n",
    "WHERE {\n",
    "  ?ds a core:Dataset .\n",
    "  ?ds core:name ?name .\n",
    "  ?ds core:includesPaleoData ?data .\n",
    "  ?data core:foundInMeasurementTable ?table .\n",
    "}\"\"\"\n",
    "\n",
    "response = requests.post(endpoint, data = {'query': query})\n",
    "res = json.loads(response.text)\n",
    "# print(response, res)\n",
    "\n",
    "files_with_paleo = set()\n",
    "for item in res['results']['bindings']:\n",
    "    files_with_paleo.add(item['name']['value'])"
   ]
  },
  {
   "cell_type": "code",
   "execution_count": 4,
   "metadata": {},
   "outputs": [
    {
     "data": {
      "text/plain": [
       "224"
      ]
     },
     "execution_count": 4,
     "metadata": {},
     "output_type": "execute_result"
    }
   ],
   "source": [
    "len(files_with_paleo)"
   ]
  },
  {
   "cell_type": "markdown",
   "metadata": {},
   "source": [
    "#### Get all files **without** paloedata"
   ]
  },
  {
   "cell_type": "code",
   "execution_count": 5,
   "metadata": {},
   "outputs": [
    {
     "name": "stdout",
     "output_type": "stream",
     "text": [
      "['Ocn-NorthEastBreakers_Bermuda.Kuhnert.2005', 'NAm-BellMountain.Schweingruber.1996', 'Ocn-Mahe.Charles.1997', 'NAm-MedusaBay.Buckley.2003', 'Asi-WEXYUN.Wright.2010', 'Ocn-CoralBayNingaloo.Cooper.2012', 'Ocn-GulfofGuinea.Weldeab.2007', 'MD01-2378.Xu.2008', 'Ocn-DoubleReef.Asami.2005', 'NAm-BarlowPassamMtHood.Briffa.1996', 'Asi-MONG014.Jacoby.2013', 'Asi-AltaiDjasator.Cook.2011', 'NAm-ClearPond.Gajewski.1988', 'SK237-GC04.Saraswat.2013', 'Asi-CentralChina.Wang.1998', 'Asi-CHIN046.Brauning.2013', 'NAm-BigBendLake.Jacoby.2003', 'Ant-SipleStation.Mosley-Thompson.1990', 'Asi-PAKI015.Esper.2007', 'Asi-Hunan-Jiangsu.Zhang.1980', 'Asi-PAKI007.Esper.2007', 'Asi-HBLXJP.PAGES2k.2013', 'Asi-WULANJ.PAGES2k.2013', 'Asi-CHIN050.Shao.2013', 'Ant-Vostok.Ekaykin.2014', 'Arc-Austfonna.Isaksson.2005', 'NAm-PearlPeak.Graybill.1994', 'Asi-PAKI033.Cook.2013', \"NAm-BurntOver.D'Arrigo.2005\", 'NAm-Landslide.Luckman.2006', 'NAm-Nakiska.Luckman.2001', 'KT05-7_PC02.Kawahata.2009', 'NAm-FirthRiver.Anchukaitis.2013', 'Asi-CHIN020.Li.2010', 'NAm-EagleFecal_PtarmiganMerge.Jacoby.2011', 'Asi-JAPA013.Yasue.1997', 'NAm-TwistedTreeHeartrotHill.Jacoby.1989', 'Ocn-ChileanMargin.Lamy.2002', 'Asi-PAKI029.Cook.2013', 'Asi-AltaiTjute.Cook.2011', 'Asi-UKHEWD.Schweingruber.2002', 'NAm-VicaryMine.Sauchyn.2016', 'Eur-SpannagelCave.Mangini.2005', 'Asi-JAPA014.Yasue.2013', 'Ocn-Bermuda.DraschbaA.2000', 'Ocn-AqabaJordanAQ18.Heiss.1999', 'Eur-NorthernScandinavia.Esper.2012', \"NAm-AlmondButterUpper.D'Arrigo.2005\", 'Ocn-Clipperton4b.Wu.2014', 'GeoB1023-5.Kim.2002', 'Asi-MONG006.Jacoby.2006', 'Ant-CoastalDML.Thamban.2012', 'Ocn-PuntaMaroma.Vásquez-Bedoya.2012', 'Asi-ZHANGX.PAGES2k.2010', 'Ocn-MakassarStrait.Oppo.2009', 'Ocn-PigmyBasin.Richey.2015', 'Ocn-UrvinaBay.Dunbar.1994', 'ODP659.Tiedemann.1994', 'GeoB12605-3.Kuhnert.2014', 'Ant-JamesRossIsland.Mulvaney.2013', 'Arc-BlueLake.Bird.2008', 'Asi-LowerYangtzeRiver.Zhang.1980', 'Ocn-Clipperton6a.Wu.2014', 'Ant-TALDICE.Stenni.2010', 'Ocn-Vanuatu.Gorman.2012', 'Ocn-BiscayneBay.Swart.1996', 'Asi-ENEPAB.PAGES2k.2013', 'NAm-Nadahini.Luckman.2013', 'Eur-FinnishLakelands.Helama.2014', 'Asi-SHIYAT.PAGES2k.2013', 'Asi-LAJQIN.PAGES2k.2013', 'Asi-JAPA020.Kimura.2013', 'Asi-NEPA025.Krusic.2013', 'JM98-1-PC.Husum.2004', 'Ocn-TantabiddiReefNingaloo.Cooper.2012', 'Ant-TalosDome.Stenni.2002', 'Asi-BT011.Cook.2010', 'Ocn-DryTortugas.Lund.2006', 'Asi-CHIN029.Krusic.2010', 'NAm-PikePeaks.Harlan.1996', 'Asi-PAKI021.Cook.2013', 'NAm-wa069.Peterson.1994', 'NAm-GreatBasin.Salzer.2013', 'NAm-SleepingDeerRoad.Hughes.2005', 'Ocn-RedSea.Felis.2000', 'Ocn-GreatBarrierReef.Hendy.2002', 'A7.Oppo.2005', 'Asi-GHEGAN.PAGES2k.2013', 'Palmyra.Cobb.2013', 'LakeSurprise.Falster.2018', 'BJ8-03-70GGC.Linsley.2010', 'Ant-DomeF2001.Uemura.2008', \"Asi-INDO005.D'Arrigo.2010\", 'Arc-LakeC2.Lamoureux.1996', 'Asi-ESPPAK.PAGES2k.2013', 'KNR166-2JPC51.Schmidt.2012', 'NAm-LacNoir.Paquette.2013', 'Arc-HalletLake.McKay.2008', 'Asi-TDBXJP.PAGES2k.2013', 'Asi-CHIN052.Shao.2013', 'Asi-PAKI001.Esper.2007', 'DSDP552.Shackleton.1984', 'NAm-RockGlacierYukon.Kenigsberg.2013', 'Aus-CTPEastTasmania.Allen.2001', 'Eur-LakeSilvaplana.Larocque-Tobler.2010', 'NAm-GeraldineLakes.Luckman.2001', 'Asi-EastChina.Wang.1990', 'GeoB5844-2.Arz.2003', 'NAm-LaTasajera.Biondi.2001', 'ME0005A-43JC.Benway.2006', 'Afr-ColdAirCave.Sundqvist.2013', 'Ocn-SouthernChileMargin.Mohtadi.2007', 'Asi-UULEWW.Schweingruber.2002', 'Asi-MQFXJP.PAGES2k.2013', 'NAm-DanaPlateauInyoNationalForest.King.2000', 'Asi-PAKI020.Cook.2013', 'Asi-AltaiUstUlaganLake.Cook.2005', 'Asi-NEPA036.Krusic.2013', 'Ocn-MadangLagoonPapuaNewGuinea.Tudhope.1995', 'NAm-GalenaPassSawtooth.Briffa.1996', 'Asi-BT008.Cook.2010', 'Arc-Kittelfjall.Bjorklund.2012', 'Arc-Forfjorddalen.McCarroll.2013', 'Asi-MONG021.Jacoby.2010', 'Asi-KYRG014.Solomina.2013', 'NAm-SheepTrail.Brown.2005', 'Asi-CHIN065.Shao.2013', 'Asi-MCCHFH.Sano.2008', 'Ocn-FloridaBay.Swart.1996', 'Asi-MONG004.Jacoby.2013', 'NAm-HellsKitchenLake.Gajewski.1988', 'MD03-2797.Weldeab.2007', 'Ocn-DryTortugas.DeLong.2014', 'Asi-PTCYUN.PAGES2k.2013', 'Ocn-TurrumoteReefPuertoRico.Kilbourne.2008', 'NAm-PeytoLake.Schweingruber.1996', 'Asi-CHIN064.Shao.2013', 'Asi-CHIN051.Shao.2013', 'Asi-EastChina.Wang.1998', 'NAm-HornbyCabin.Jacoby.1989', 'Asi-MONG027.Jacoby.2010', 'Ocn-Maiana.Urban.2000', 'Arc-VøringPlateau.Berner.2011', 'NAm-MtStHelens.Briffa.1996', 'Asi-BT018.Cook.2010', 'ODP662.Lisiecki.2005', 'GIK17748-2.Kim.2002', 'MD982176.Stott.2004', 'Juxtlahuaca.Lachniet.2013', 'Asi-MQBXJP.PAGES2k.2013', 'Asi-JAPA012.Yasue.1997', 'Ocn-WesternSvalbard.Spielhagen.2011', 'Ant-WAIS-Divide.Severinghaus.2012', 'Eur-LakeSilvaplana.Trachsel.2010', 'NAm-ArrowsmithMountain.Briffa.1996', 'Asi-AltaiKuraiskySteppe.Cook.2011', 'NAm-HohLakeHigh.Peterson.1994', 'Asi-PAKI017.Cook.2013', 'Ocn-BuccooReefTobagoMontastrea.Moses.2006', 'Ocn-MD98-2177.Newton.2010', 'Asi-YKCOM.Yasue.2013', 'NAm-TamarackBowl.Sauchyn.2016', 'MD98-2165.Levi.2007', 'Ant-Ferrigno.Thomas.2013', 'NAm-FlintCreekRange.Hughes.2005', 'NAm-BakerLake.Hughes.2005', 'GeoB3129-1.Weldeab.2006', 'Arc-LakeLehmilampi.Haltia-Hovi.2007', 'Asi-SihailongwaLake.Chu.2011', 'Arc-CampCentury.Fisher.1969', 'Asi-UULEWD.Schweingruber.2002', 'Eur-TatraMountains.Büntgen.2013', 'Ocn-Ningaloo.Kuhnert.2000', 'Aus-CTPWestTasmania.Allen.2001', 'NAm-ElephantMountain.Conkey.1994', 'Ocn-NorthEastBreakers_Bermuda.Kuhnert.2002', 'ODP658.Sarnthein.1989', 'Ocn-Vanuatu.Quinn.1996', 'NAm-ConroyLake.Gajewski.1988', 'Ocn-KNR140‐2‐59GGC.Saenger.2011', 'Asi-SouthChina.Wang.1998', 'Ocn-Clipperton2b.Wu.2014', 'MD98-2170.Stott.2004', 'Arc-AkademiiNaukIceCap.Opel.2013', 'Asi-TH001.Buckley.2010', 'Asi-MONG024.Jacoby.2010', 'Ocn-Reunion.Pfeiffer.2004', 'Ocn-BunakenIsland.Charles.2003', 'KNR166-2-26JPC.Schmidt.2011', 'Asi-CHIN053.Shao.2013', 'NAm-PethaiPeninsula.Schweingruber.1996', 'Asi-MQACJP.PAGES2k.2013', 'Asi-KYRG009.Shiyatov.2013', 'Ant-DSS.Moy.2012', 'TR163-22.Lea.2006', 'GeoB33021.Kim.2002', 'Ocn-LosRoques.Hetzinger.2008', 'Asi-AltaiSamakhaSteppe.Cook.2011', 'Arc-Armarnaes.Bjorklund.2012', 'NAm-ScatterLake.Graumlich.2003', 'Asi-NEPA029.Krusic.2013', 'NAm-CienegadeNuestraSenoradeGuadalupe.Fule.2009', 'NAm-LakeMina.St.Jacques.2008', 'GIK23258.Sarnthein.2003', 'Asi-PAKI039.Cook.2013', 'Ocn-HaferaIsland.Wu.2013', 'KNR-159-5_78GGC.Lacerra.2017', 'Asi-JAPA017.Yasue.2013', 'Asi-CHIN054.Shao.2013', 'Asi-CHIN060.Shao.2013', 'NAm-LacRomanel.Schweingruber.1996', 'Asi-KERALA.PAGES2k.2013', 'NAm-GranitePassHuntMountain.Briffa.1996', 'Asi-CHIN047.Brauning.2013', 'Aus-DuckholeLake.Saunders.2013', 'Asi-MONG017.Jacoby.2010', 'Asi-AltaiUlaganValley.Cook.2011', 'Asi-INDI025.Borgaonkar.2013', 'Asi-PAKI018.Cook.2013', 'Ocn-DryTortugasA.Lund.2006', 'Ocn-PalauUlongChannel.Osborne.2014', 'NAm-DarkLake.Gajewski.1988', 'ODP976.Jimenez-Amat.2015', \"NAm-Manitoba.D'Arrigo.2006\", 'Asi-MONG025.Jacoby.2010', 'KNR-159-5_33GGC.Lacerra.2017', 'Asi-BT004.Cook.2010', 'Ocn-Philippines.Stott.2007', 'Asi-KYRG015.Solomina.2013', 'SAm-LagunaAculeo.vonGunten.2009', 'Asi-MONG002.Jacoby.2013', 'NAm-Pintlers.Littell.2011', 'Ocn-CoralSea.Calvo.2007', 'NAm-McGinnisTrail.Wiles.2013', 'Asi-CENTIB.PAGES2k.2013', 'GeoB10042-1.Setiawan.2016', 'Asi-PAKI004.Esper.2007', 'NAm-SanFrancisoPeaksUpdate.Graybill.2005', 'Asi-UULTRW.Schweingruber.2002', 'NAm-SurpriseValley.Luckman.2001', 'NAm-SignalMountain.Luckman.2001', 'Eur-Stockholm.Leijonhufvud.2009', 'NAm-MeadowMountain.Wilson.2005', 'DSDP607.Lisiecki.2005', 'Ocn-LaingIslandPapuaNewGuinea.Tudhope.2001', 'Asi-PAKI002.Esper.2007', 'NAm-SettlementPointAfognakIsland.Harlan.1998', 'NAm-TogwateePass.Briffa.1996', 'Ocn-CapeGhir.McGregor.2007', 'Asi-MONG026.Jacoby.2010', 'Eur-Lötschental.Büntgen.2006', 'Asi-TDAXJP.PAGES2k.2013', 'Ocn-SouthIceland.Sicre.2011', 'Kurupa.Boldt.2015', 'Asi-DEZQIN.PAGES2k.2013', 'Ocn-GreatBahamaBank.Richter.2006', 'Asi-MONG012.Jacoby.2006', 'Asi-SANGTS.PAGES2k.2013', 'NAm-BigWhite2.Wilson.2005', 'Asi-MONG011.Jacoby.2006', 'Ocn-MaloChannelEspirituSantoIsland.Kilbourne.2004', 'Asi-PAKI028.Cook.2013', 'Asi-BHUTSP.PAGES2k.2013', 'NAm-LittlePineLake.Gajewski.1988', 'Arc-WindyDome.Henderson.2011', 'MD97-2141.Rosentha.2003', 'NAm-PowderRiverPass.Briffa.1996', 'P178-15P.Tierney.2015', 'NAm-RubyLake.Gajewski.1988', 'NAm-BasinPond.Gajewski.1988', 'MD05-2904.Steinke.2011', 'Asi-KYRG003.Esper.2007', 'Asi-CHIN016.Li.2010', 'NAm-GreenLake.Menounos.2006', 'Asi-HBMXJP.PAGES2k.2013', 'Arc-DevonIceCap.Fisher.1983', 'Ocn-RarotongaSrCa2r.Linsley.2006', 'Ocn-HoutmanAbrolhosHAB10A.Zinke.2014', 'NAm-OregonCaves.Ersek.2012', 'Ocn-MadangLagoonPapuaNewGuinea.Kuhnert.2001', 'Ocn-ClippertonAtoll.Linsley.2000', 'Ocn-Guadeloupe.Steinhilber.2010', 'Asi-JAPA016.Yasue.2013', 'NAm-BorealPlateau.Graumlich.2005', 'NAm-SnakeCreek.Kenigsberg.2013', 'Ocn-Palmyra.Nurhati.2011', 'Ocn-GarrisonBasin.Richey.2009', 'Asi-INDI024.Borgaonkar.2013', 'NAm-CornwallHills.Wilson.2005', 'Asi-MiddleYangtzeRiver.Zhang.1980', 'NAm-STREC.Gennaretti.2014', 'Ocn-MentawaiIslands.Abram.2008', 'NAm-GraniteMountain.Graumlich.2003', 'LV29-114-3.Max.2012', 'NAm-SheepMountain.Graybill.1995', 'NAm-LakeoftheClouds.Gajewski.1988', 'Asi-KYRG012.Solomina.2013', 'Ocn-Palmyra.Cobb.2003', 'Asi-CHIN040.Fan.2013', 'Ocn-TagusMudPatch.Abrantes.2005', 'Aus-Oroko.Cook.2002', 'ODP1098B.Shevenell.2011', 'Asi-KYRG005.Esper.2007', 'Ocn-EmeraldBasin.Keigwin.2003', 'Ocn-PedroBankJamaica.Haase-Schramm.2003', 'NAm-MinersWell.Wiles.2000', 'Asi-CHIN026.Wright.2010', 'Asi-BT002.Cook.2010', 'TestDataset.2017.Khider', 'Asi-PAKI036.Cook.2013', 'Asi-QUMAJP.PAGES2k.2013', 'Asi-KAZ001.Solomina.2010', 'Asi-MTASMD.Davi.2013', 'Eur-RAPiD-17-5P.Moffa-Sanchez.2014', 'Asi-CHIN066.Shao.2013', 'Ocn-Clipperton1b.Wu.2014', 'Arc-GISP2.Grootes.1997', 'Asi-MONG007.Schweingruber.2013', 'Ocn-SinaiPeninsula,RedSea.Moustafa.2000', 'Asi-TIANMU.PAGES2k.2013', 'NAm-HighwoodPass.Luckman.2001', 'Asi-NEPA021.Krusic.2013', 'NAm-BigWhite.Parish.2000', 'NAm-FishCreekTrail.Biondi.2001', 'NAm-DeerMountain.Wiles.2011', 'SAm-QuelccayaIceCap.Thompson.2013', 'Asi-PAKI003.Esper.2007', 'DSDP610.Lisiecki.2005', 'Asi-NEPA014.Krusic.2013', 'Ant-US-ITASE-2000-1.Steig.2013', 'MD02-2575.Ziegler.2008', 'Aus-BuckleysChance.Buckley.1997', 'Ocn-Lombok.Charles.2003', 'Ocn-RAPiD-12-1K.Thornalley.2009', \"NAm-WindyRidgeAlaska.D'Arrigo.2005\", 'NAm-UpperWrightLakes.Graumlich.2005', 'Asi-KYRG002.Esper.2007', 'Asi-CHIN038.Fan.2013', 'Arc-Yamalia.Briffa.2013', 'Ant-WDC05A.Steig.2013', 'NAm-DenaliNationalPark.Schweingruber.1996', 'Ocn-MontegoBayJamaica.Haase-Schramm.2003', 'SAm-CentralAndes15.Neukom.2014', 'Asi-CHIN019.Li.2010', 'Arc-Dye.Vinther.2010', 'Arc-Crete.Vinther.2010', 'NAm-CardinalDivide.Luckman.2001', 'Ocn-CapeGhir.Doose-Rolinski.2007', 'Asi-HEBQIN.PAGES2k.2013', 'Ocn-SubTropicalEasternNorthAtlantic.deMenocal.2000', 'Asi-PAKI014.Esper.2007', 'Asi-PAKI040.Cook.2011', 'Ocn-SecasIslandPanama.Linsley.1994', 'Asi-PAKI011.Esper.2007', 'Arc-PennyIceCapP96.Fisher.1998', 'Ant-DomeC.Jouzel.2001', 'GIK17940-2.Pelejero.1999', 'Arc-LenaRiver.McDonald.1998', 'Ocn-MinorcaContourite.Moreno.2012', 'Asi-CHIN056.Shao.2013', 'Ocn-OkinawaTrough.Wu.2012', 'M35003-4.Ruehlemann.1999', 'Asi-YKC.Yasue.2013', 'Asi-NEPA032.Krusic.2013', 'MD972120-MD972121.Pahnke.2006', 'Ocn-FiskBasin.Richey.2009', 'Asi-PAKI024.Cook.2013', 'Ocn-Tarawa.Cole.1990', 'Asi-AltaiKorumdu.Cook.2005', 'Ocn-ImperieuseRowleyShoals.Cooper.2012', 'Arc-LowerMurrayLake.Cook.2008', 'Ocn-Miyanohama.Felis.2009', 'NAm-ShermanCreekPass.Briffa.1996', 'NAm-HighlandFireOutlook.Briffa.1996', 'Arc-Indigirka.Hughes.1999', 'Asi-MONG020.Jacoby.2010', 'Ocn-GulfofMaine.Wanamaker.2007', 'NAm-MountAdamsLow.Peterson.1994', 'GeoB7702-3.Castaneda.2010', 'Asi-NEPA018.Krusic.2013', 'NAm-AthabascaGlacier.Schweingruber.1996', 'Asi-AltaiAktru.Cook.2005', 'Ant-TaylorDome.Steig.2000', 'Asi-UULLWW.Schweingruber.2002', 'MD01-2412.Harada.2006', 'Arc-NGTB16.Schwager.1998', 'Ocn-SavusavuBayFiji.Bagnato.2005', 'NAm-KobukNoatak.King.2003', 'NAm-HartsPassN2.Peterson.1994', 'GeoB3911-3.Weldeab.2006', 'Eur-MaritimeFrenchAlps.Büntgen.2012', 'NAm-SmithersSkiArea.Schweingruber.1996', 'Ocn-XishaIslandSouthChinaSea.Sun.2004', 'Asi-JAPA019.Sano.2013', 'Asi-HXBURU.PAGES2k.2013', 'Ocn-GreatBahamaBank.Lund.2006', 'Asi-MQAXJP.PAGES2k.2013', 'Ocn-LaurentianFan.Keigwin.2005', 'Asi-BT001.Cook.2010', 'JR51GC35.Bendle.2007', 'Asi-PAKI023.Cook.2013', 'Asi-MONG029.Jacoby.2010', 'NAm-VancouverCyprusProvincialPark.Briffa.1996', 'NAm-EurekaSummit.Schweingruber.1996', 'Asi-HBHXJP.PAGES2k.2013', 'Asi-MTASSP.Davi.2013', 'Ocn-HoutmanAbrolhosIslands.Cooper.2012', 'NAm-FlowerLake.Graybill.1995', 'Ant-MES.Rhodes.2012', 'Asi-INDI015.Borgaonkar.2013', 'Asi-PAKI006.Esper.2007', 'NAm-FortChimo.Fritts.1981', 'NAm-CameronPass.Bigler.2007', 'Ocn-Kiritimati.Evans.1998', 'Ocn-Moorea.Boiseau.1998', 'Asi-UULMXD.Schweingruber.2002', 'Asi-MQDXJP.PAGES2k.2013', 'Asi-UKHMND.Schweingruber.2002', 'Eur-Seebergsee.Larocque-Tobler.2012', 'Asi-MONG009.Jacoby.2013', 'Asi-UULMND.Schweingruber.2002', 'NAm-Bennington.Luckman.2001', 'Kesang.Cheng.2012', 'Eur-Tallinn.Tarand.2001', 'NAm-StarrigawanOldSitka.Kaiser.1996', 'Ocn-SouthAtlanticWestAfrica.Leduc.2010', 'MD982181.Khider.2014', 'NAm-TimberGapUpper.Graybill.1995', 'NAm-CirquePeak.Graybill.1995', 'Asi-UKHMXD.Schweingruber.2002', 'Arc-Avam-Taimyr.Briffa.2008', 'NAm-CarltonRidge.Kipfmuller.2008', 'Asi-Dasuopu.Thompson.2000', 'Asi-MONG018.Jacoby.2010', 'Asi-PAKI012.Esper.2007', 'Asi-PAKI027.Cook.2013', 'NAm-SpillwayLakeYosemiteNationalPark.King.2000', 'Asi-MONG010.Jacoby.2013', 'Arc-Laanila.Lindholm.2013', 'Ocn-KuroshioCurrent.Isono.2009', 'Asi-PAKI025.Cook.2013', 'Asi-CHIN006.Sheppard.2013', 'NAm-DonJekRiverBridge.Schweingruber.1996', 'Asi-UKHTRW.Schweingruber.2002', 'Aus-PinkPine.Duncan.2010', 'Ocn-ArabianSea.Doose-Rolinski.2001', 'Ant-SiteDML05.Graf.2002', 'Ocn-MD98-2160.Newton.2010', 'NAm-CeaderBreaks.Briffa.1996', 'Asi-GANGCD.PAGES2k.2013', 'Asi-AltaiKuraisky.Cook.2011', 'Asi-DUSHJP.PAGES2k.2013', 'Asi-CHIN005.Sheppard.2013', 'Asi-CHIN021.Li.2010', 'Asi-BHUTTD.PAGES2k.2013', 'Arc-MackenzieDelta.Porter.2013', 'NAm-Ymir.Wilson.2005', 'Ocn-HoutmanAbrolhos.Kuhnert.1999', 'Arc-HudsonLake.Clegg.2011', 'Asi-UKHLWD.Schweingruber.2002', 'NAm-NabesnaMine.Jacoby.2003', 'Eur-CoastofPortugal.Abrantes.2011', 'Ocn-SavusavuBayAB.Linsley.2006', 'Asi-BT003.Cook.2010', 'Asi-SourthAndMiddleUrals.Demezhko.2007', 'Asi-HRPCSM.PAGES2k.2013', 'Asi-UULLWD.Schweingruber.2002', 'Ant-DSS.DahlJensen.1999', 'NAm-RoweLakes.Colenutt.2011', 'MD03-2601.Kim.2012', 'Arc-Arjeplog.Bjorklund.2014', 'Asi-BT006.Cook.2010', 'NAm-FremontGlacier.Hill.0', 'MD97-2121.Marr.2013', 'Ocn-BundegireefNingaloo.Cooper.2012', 'Asi-NEPA019.Krusic.2013', 'Arc-GRIP.Vinther.2010', 'Ocn-SantaBarbaraBasin.Zhao.2000', 'NAm-YosemiteParkEEingang.Briffa.1996', 'Ocn-GBR.Wei.2009', 'Ocn-Ifaty4.Zinke.2004']\n"
     ]
    },
    {
     "data": {
      "text/plain": [
       "481"
      ]
     },
     "execution_count": 5,
     "metadata": {},
     "output_type": "execute_result"
    }
   ],
   "source": [
    "file_list = list(files_in_wiki.difference(files_with_paleo))\n",
    "print(file_list)\n",
    "len(file_list)"
   ]
  },
  {
   "cell_type": "code",
   "execution_count": null,
   "metadata": {},
   "outputs": [],
   "source": []
  }
 ],
 "metadata": {
  "kernelspec": {
   "display_name": "Python 3",
   "language": "python",
   "name": "python3"
  },
  "language_info": {
   "codemirror_mode": {
    "name": "ipython",
    "version": 3
   },
   "file_extension": ".py",
   "mimetype": "text/x-python",
   "name": "python",
   "nbconvert_exporter": "python",
   "pygments_lexer": "ipython3",
   "version": "3.8.3"
  }
 },
 "nbformat": 4,
 "nbformat_minor": 4
}
